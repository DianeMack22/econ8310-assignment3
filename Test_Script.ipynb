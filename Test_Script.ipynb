{
  "nbformat": 4,
  "nbformat_minor": 0,
  "metadata": {
    "colab": {
      "provenance": [],
      "authorship_tag": "ABX9TyNCEeKtFyWmnjqFA0oFwKuU",
      "include_colab_link": true
    },
    "kernelspec": {
      "name": "python3",
      "display_name": "Python 3"
    },
    "language_info": {
      "name": "python"
    }
  },
  "cells": [
    {
      "cell_type": "markdown",
      "metadata": {
        "id": "view-in-github",
        "colab_type": "text"
      },
      "source": [
        "<a href=\"https://colab.research.google.com/github/DianeMack22/econ8310-assignment3/blob/main/Test_Script.ipynb\" target=\"_parent\"><img src=\"https://colab.research.google.com/assets/colab-badge.svg\" alt=\"Open In Colab\"/></a>"
      ]
    },
    {
      "cell_type": "code",
      "execution_count": 11,
      "metadata": {
        "colab": {
          "base_uri": "https://localhost:8080/",
          "height": 575
        },
        "collapsed": true,
        "id": "XWsIKVeaLtad",
        "outputId": "34f5ac8d-b42b-4c5e-df09-960b9ca1cebe"
      },
      "outputs": [
        {
          "output_type": "stream",
          "name": "stdout",
          "text": [
            "--2025-04-22 01:56:34--  https://raw.githubusercontent.com/DianeMack22/econ8310-assignment3/main/assignment3.py\n",
            "Resolving raw.githubusercontent.com (raw.githubusercontent.com)... 185.199.108.133, 185.199.109.133, 185.199.110.133, ...\n",
            "Connecting to raw.githubusercontent.com (raw.githubusercontent.com)|185.199.108.133|:443... connected.\n",
            "HTTP request sent, awaiting response... 200 OK\n",
            "Length: 150363 (147K) [text/plain]\n",
            "Saving to: ‘assignment3.py’\n",
            "\n",
            "assignment3.py      100%[===================>] 146.84K  --.-KB/s    in 0.004s  \n",
            "\n",
            "2025-04-22 01:56:35 (36.6 MB/s) - ‘assignment3.py’ saved [150363/150363]\n",
            "\n"
          ]
        },
        {
          "output_type": "error",
          "ename": "NameError",
          "evalue": "name 'true' is not defined",
          "traceback": [
            "\u001b[0;31m---------------------------------------------------------------------------\u001b[0m",
            "\u001b[0;31mNameError\u001b[0m                                 Traceback (most recent call last)",
            "\u001b[0;32m<ipython-input-11-349853735d88>\u001b[0m in \u001b[0;36m<cell line: 0>\u001b[0;34m()\u001b[0m\n\u001b[1;32m      8\u001b[0m \u001b[0mget_ipython\u001b[0m\u001b[0;34m(\u001b[0m\u001b[0;34m)\u001b[0m\u001b[0;34m.\u001b[0m\u001b[0msystem\u001b[0m\u001b[0;34m(\u001b[0m\u001b[0;34m'wget https://raw.githubusercontent.com/DianeMack22/econ8310-assignment3/main/assignment3.py'\u001b[0m\u001b[0;34m)\u001b[0m\u001b[0;34m\u001b[0m\u001b[0;34m\u001b[0m\u001b[0m\n\u001b[1;32m      9\u001b[0m \u001b[0;34m\u001b[0m\u001b[0m\n\u001b[0;32m---> 10\u001b[0;31m \u001b[0;32mfrom\u001b[0m \u001b[0massignment3\u001b[0m\u001b[0;34m.\u001b[0m\u001b[0mpy\u001b[0m \u001b[0;32mimport\u001b[0m \u001b[0mCustomMNIST\u001b[0m\u001b[0;34m,\u001b[0m \u001b[0mFirstNet\u001b[0m\u001b[0;34m,\u001b[0m \u001b[0mload_model\u001b[0m\u001b[0;34m\u001b[0m\u001b[0;34m\u001b[0m\u001b[0m\n\u001b[0m\u001b[1;32m     11\u001b[0m \u001b[0;34m\u001b[0m\u001b[0m\n\u001b[1;32m     12\u001b[0m \u001b[0;31m# -----------------------------\u001b[0m\u001b[0;34m\u001b[0m\u001b[0;34m\u001b[0m\u001b[0m\n",
            "\u001b[0;32m/content/assignment3.py\u001b[0m in \u001b[0;36m<module>\u001b[0;34m\u001b[0m\n\u001b[1;32m      6\u001b[0m       \u001b[0;34m\"provenance\"\u001b[0m\u001b[0;34m:\u001b[0m \u001b[0;34m[\u001b[0m\u001b[0;34m]\u001b[0m\u001b[0;34m,\u001b[0m\u001b[0;34m\u001b[0m\u001b[0;34m\u001b[0m\u001b[0m\n\u001b[1;32m      7\u001b[0m       \u001b[0;34m\"authorship_tag\"\u001b[0m\u001b[0;34m:\u001b[0m \u001b[0;34m\"ABX9TyManaJt3mM1WVSOW05q0l5g\"\u001b[0m\u001b[0;34m,\u001b[0m\u001b[0;34m\u001b[0m\u001b[0;34m\u001b[0m\u001b[0m\n\u001b[0;32m----> 8\u001b[0;31m       \u001b[0;34m\"include_colab_link\"\u001b[0m\u001b[0;34m:\u001b[0m \u001b[0mtrue\u001b[0m\u001b[0;34m\u001b[0m\u001b[0;34m\u001b[0m\u001b[0m\n\u001b[0m\u001b[1;32m      9\u001b[0m     },\n\u001b[1;32m     10\u001b[0m     \"kernelspec\": {\n",
            "\u001b[0;31mNameError\u001b[0m: name 'true' is not defined"
          ]
        }
      ],
      "source": [
        "# -----------------------------\n",
        "# 1. Import dependencies and custom code\n",
        "# -----------------------------\n",
        "import torch\n",
        "from torch.utils.data import DataLoader\n",
        "\n",
        "# Download the assignment3.py file to your current directory or a specific location\n",
        "!wget https://raw.githubusercontent.com/DianeMack22/econ8310-assignment3/main/assignment3.py\n",
        "\n",
        "from assignment3.py import CustomMNIST, FirstNet, load_model\n",
        "\n",
        "# -----------------------------\n",
        "# 2. Load the test dataset\n",
        "# -----------------------------\n",
        "test_dataset = CustomMNIST(\n",
        "    image_path=\"data/t10k-images-idx3-ubyte\",\n",
        "    label_path=\"data/t10k-labels-idx1-ubyte\"\n",
        ")\n",
        "\n",
        "test_loader = DataLoader(test_dataset, batch_size=64)\n",
        "\n",
        "# -----------------------------\n",
        "# 3. Load the trained model\n",
        "# -----------------------------\n",
        "model, optimizer, epoch, loss = load_model()\n",
        "model.eval()\n",
        "\n",
        "model = FirstNet()\n",
        "optimizer = torch.optim.SGD(model.parameters(), lr=0.001)\n",
        "\n",
        "# Load checkpoint\n",
        "checkpoint = torch.load(\"model1.pt\")\n",
        "model.load_state_dict(checkpoint['model_state_dict'])\n",
        "optimizer.load_state_dict(checkpoint['optimizer_state_dict'])\n",
        "model.eval()\n",
        "\n",
        "# -----------------------------\n",
        "# 4. Evaluate the model on test data\n",
        "# -----------------------------\n",
        "correct = 0\n",
        "total = 0\n",
        "\n",
        "with torch.no_grad():\n",
        "    for X, y in test_loader:\n",
        "        outputs = model(X)\n",
        "        _, predicted = torch.max(outputs.data, 1)\n",
        "        total += y.size(0)\n",
        "        correct += (predicted == y).sum().item()\n",
        "\n",
        "accuracy = 100 * correct / total\n",
        "print(f\"✅ Model accuracy on test set: {accuracy:.2f}%\")"
      ]
    },
    {
      "cell_type": "code",
      "source": [
        "print(sys.path)\n"
      ],
      "metadata": {
        "colab": {
          "base_uri": "https://localhost:8080/"
        },
        "id": "qVZn6YVvFvpr",
        "outputId": "eaf90139-a5f1-4ad7-81b6-4b4009178caf"
      },
      "execution_count": 7,
      "outputs": [
        {
          "output_type": "stream",
          "name": "stdout",
          "text": [
            "['/content', '/env/python', '/usr/lib/python311.zip', '/usr/lib/python3.11', '/usr/lib/python3.11/lib-dynload', '', '/usr/local/lib/python3.11/dist-packages', '/usr/lib/python3/dist-packages', '/usr/local/lib/python3.11/dist-packages/IPython/extensions', '/root/.ipython', '/assignment3.py']\n"
          ]
        }
      ]
    }
  ]
}