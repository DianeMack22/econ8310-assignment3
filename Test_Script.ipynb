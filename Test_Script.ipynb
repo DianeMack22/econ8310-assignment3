{
  "nbformat": 4,
  "nbformat_minor": 0,
  "metadata": {
    "colab": {
      "provenance": [],
      "authorship_tag": "ABX9TyMhwVQQFgOJvGov3nIzx1tz",
      "include_colab_link": true
    },
    "kernelspec": {
      "name": "python3",
      "display_name": "Python 3"
    },
    "language_info": {
      "name": "python"
    }
  },
  "cells": [
    {
      "cell_type": "markdown",
      "metadata": {
        "id": "view-in-github",
        "colab_type": "text"
      },
      "source": [
        "<a href=\"https://colab.research.google.com/github/DianeMack22/econ8310-assignment3/blob/main/Test_Script.ipynb\" target=\"_parent\"><img src=\"https://colab.research.google.com/assets/colab-badge.svg\" alt=\"Open In Colab\"/></a>"
      ]
    },
    {
      "cell_type": "code",
      "execution_count": 20,
      "metadata": {
        "colab": {
          "base_uri": "https://localhost:8080/",
          "height": 411
        },
        "id": "XWsIKVeaLtad",
        "outputId": "f2abc647-9322-474d-8dc9-09e252d736fd"
      },
      "outputs": [
        {
          "output_type": "stream",
          "name": "stdout",
          "text": [
            "assignment3.py path: /content/assignment3.py\n"
          ]
        },
        {
          "output_type": "error",
          "ename": "ImportError",
          "evalue": "cannot import name 'CustomMNIST' from 'assignment3' (/content/assignment3.py)",
          "traceback": [
            "\u001b[0;31m---------------------------------------------------------------------------\u001b[0m",
            "\u001b[0;31mImportError\u001b[0m                               Traceback (most recent call last)",
            "\u001b[0;32m<ipython-input-20-433c4e0d5b73>\u001b[0m in \u001b[0;36m<cell line: 0>\u001b[0;34m()\u001b[0m\n\u001b[1;32m     17\u001b[0m     \u001b[0;32mraise\u001b[0m \u001b[0mFileNotFoundError\u001b[0m\u001b[0;34m(\u001b[0m\u001b[0;34mf\"assignment3.py not found in {assignment3_dir}\"\u001b[0m\u001b[0;34m)\u001b[0m\u001b[0;34m\u001b[0m\u001b[0;34m\u001b[0m\u001b[0m\n\u001b[1;32m     18\u001b[0m \u001b[0;34m\u001b[0m\u001b[0m\n\u001b[0;32m---> 19\u001b[0;31m \u001b[0;32mfrom\u001b[0m \u001b[0massignment3\u001b[0m \u001b[0;32mimport\u001b[0m \u001b[0mCustomMNIST\u001b[0m\u001b[0;34m,\u001b[0m \u001b[0mFirstNet\u001b[0m\u001b[0;34m,\u001b[0m \u001b[0mload_model\u001b[0m\u001b[0;34m\u001b[0m\u001b[0;34m\u001b[0m\u001b[0m\n\u001b[0m\u001b[1;32m     20\u001b[0m \u001b[0;34m\u001b[0m\u001b[0m\n\u001b[1;32m     21\u001b[0m \u001b[0mget_ipython\u001b[0m\u001b[0;34m(\u001b[0m\u001b[0;34m)\u001b[0m\u001b[0;34m.\u001b[0m\u001b[0msystem\u001b[0m\u001b[0;34m(\u001b[0m\u001b[0;34m\"sed -i '/include_colab_link/d' assignment3.py\"\u001b[0m\u001b[0;34m)\u001b[0m\u001b[0;34m\u001b[0m\u001b[0;34m\u001b[0m\u001b[0m\n",
            "\u001b[0;31mImportError\u001b[0m: cannot import name 'CustomMNIST' from 'assignment3' (/content/assignment3.py)",
            "",
            "\u001b[0;31m---------------------------------------------------------------------------\u001b[0;32m\nNOTE: If your import is failing due to a missing package, you can\nmanually install dependencies using either !pip or !apt.\n\nTo view examples of installing some common dependencies, click the\n\"Open Examples\" button below.\n\u001b[0;31m---------------------------------------------------------------------------\u001b[0m\n"
          ],
          "errorDetails": {
            "actions": [
              {
                "action": "open_url",
                "actionText": "Open Examples",
                "url": "/notebooks/snippets/importing_libraries.ipynb"
              }
            ]
          }
        }
      ],
      "source": [
        "# -----------------------------\n",
        "# 1. Import dependencies and custom code\n",
        "# -----------------------------\n",
        "import torch\n",
        "from torch.utils.data import DataLoader\n",
        "import sys\n",
        "import os\n",
        "\n",
        "assignment3_dir = os.path.abspath(os.path.dirname('assignment3.py'))\n",
        "sys.path.append(assignment3_dir)\n",
        "\n",
        "# Verify that assignment3.py is in the expected location\n",
        "print(f\"assignment3.py path: {os.path.join(assignment3_dir, 'assignment3.py')}\")\n",
        "\n",
        "# Check if the file exists\n",
        "if not os.path.exists(os.path.join(assignment3_dir, 'assignment3.py')):\n",
        "    raise FileNotFoundError(f\"assignment3.py not found in {assignment3_dir}\")\n",
        "\n",
        "from assignment3 import CustomMNIST, FirstNet, load_model\n",
        "\n",
        "!sed -i '/include_colab_link/d' assignment3.py\n",
        "\n",
        "# -----------------------------\n",
        "# 2. Load the test dataset\n",
        "# -----------------------------\n",
        "test_dataset = CustomMNIST(\n",
        "    image_path=\"data/t10k-images-idx3-ubyte\",\n",
        "    label_path=\"data/t10k-labels-idx1-ubyte\"\n",
        ")\n",
        "\n",
        "test_loader = DataLoader(test_dataset, batch_size=64)\n",
        "\n",
        "# -----------------------------\n",
        "# 3. Load the trained model\n",
        "# -----------------------------\n",
        "model, optimizer, epoch, loss = load_model()\n",
        "model.eval()\n",
        "\n",
        "model = FirstNet()\n",
        "optimizer = torch.optim.SGD(model.parameters(), lr=0.001)\n",
        "\n",
        "# Load checkpoint\n",
        "checkpoint = torch.load(\"model1.pt\")\n",
        "model.load_state_dict(checkpoint['model_state_dict'])\n",
        "optimizer.load_state_dict(checkpoint['optimizer_state_dict'])\n",
        "model.eval()\n",
        "\n",
        "# -----------------------------\n",
        "# 4. Evaluate the model on test data\n",
        "# -----------------------------\n",
        "correct = 0\n",
        "total = 0\n",
        "\n",
        "with torch.no_grad():\n",
        "    for X, y in test_loader:\n",
        "        outputs = model(X)\n",
        "        _, predicted = torch.max(outputs.data, 1)\n",
        "        total += y.size(0)\n",
        "        correct += (predicted == y).sum().item()\n",
        "\n",
        "accuracy = 100 * correct / total\n",
        "print(f\"✅ Model accuracy on test set: {accuracy:.2f}%\")"
      ]
    },
    {
      "cell_type": "code",
      "source": [
        "print(sys.path)\n"
      ],
      "metadata": {
        "colab": {
          "base_uri": "https://localhost:8080/"
        },
        "id": "qVZn6YVvFvpr",
        "outputId": "eaf90139-a5f1-4ad7-81b6-4b4009178caf"
      },
      "execution_count": null,
      "outputs": [
        {
          "output_type": "stream",
          "name": "stdout",
          "text": [
            "['/content', '/env/python', '/usr/lib/python311.zip', '/usr/lib/python3.11', '/usr/lib/python3.11/lib-dynload', '', '/usr/local/lib/python3.11/dist-packages', '/usr/lib/python3/dist-packages', '/usr/local/lib/python3.11/dist-packages/IPython/extensions', '/root/.ipython', '/assignment3.py']\n"
          ]
        }
      ]
    }
  ]
}